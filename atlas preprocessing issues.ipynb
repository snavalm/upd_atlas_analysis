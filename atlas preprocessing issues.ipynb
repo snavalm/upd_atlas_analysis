{
 "cells": [
  {
   "cell_type": "code",
   "execution_count": 1,
   "id": "17d3df00",
   "metadata": {},
   "outputs": [
    {
     "name": "stderr",
     "output_type": "stream",
     "text": [
      "/home/sergio/anaconda3/envs/py39/lib/python3.9/site-packages/scipy/__init__.py:155: UserWarning: A NumPy version >=1.18.5 and <1.25.0 is required for this version of SciPy (detected version 1.26.3\n",
      "  warnings.warn(f\"A NumPy version >={np_minversion} and <{np_maxversion}\"\n",
      "Failed to load image Python extension: '/home/sergio/anaconda3/envs/py39/lib/python3.9/site-packages/torchvision/image.so: undefined symbol: _ZN5torch3jit17parseSchemaOrNameERKNSt7__cxx1112basic_stringIcSt11char_traitsIcESaIcEEE'If you don't plan on using image functionality from `torchvision.io`, you can ignore this warning. Otherwise, there might be something wrong with your environment. Did you have `libjpeg` or `libpng` installed before building `torchvision` from source?\n"
     ]
    },
    {
     "name": "stdout",
     "output_type": "stream",
     "text": [
      "2024-02-10 15:58:14,281 - HTTP Request: GET https://api.gradio.app/gradio-messaging/en \"HTTP/1.1 200 OK\"\n"
     ]
    }
   ],
   "source": [
    "from monai.transforms import *\n",
    "from monai.data import load_decathlon_datalist, Dataset\n",
    "import torch\n",
    "from torchvision.utils import make_grid\n",
    "\n",
    "import gradio as gr\n",
    "\n",
    "import pickle\n",
    "demo = None"
   ]
  },
  {
   "cell_type": "code",
   "execution_count": 2,
   "id": "9f0c4c77",
   "metadata": {},
   "outputs": [],
   "source": [
    "dl = load_decathlon_datalist(\"atlas_upd.json\",\n",
    "                             data_list_key = 'training_t1',\n",
    "                             base_dir='/home/sergio/fastdrive/data/upd_preprocessed/atlas/'\n",
    "                            )\n",
    "transforms = Compose([LoadImaged(keys=['image','label'],image_only=True,ensure_channel_first=True),\n",
    "                      ScaleIntensityRangePercentilesd(keys='image',lower=0,upper=98,b_min=0,b_max=1,clip=True),\n",
    "                      CropForegroundd(keys=['image','label'],source_key='image',),\n",
    "                      # Makes z as first dimension: (z,1,x,y)\n",
    "                      Lambdad(keys=['image','label'],func=lambda x: x.movedim(-1,0)) \n",
    "                     ])\n",
    "\n",
    "ds = Dataset(dl,transform=transforms,)\n",
    "\n",
    "with open('atlas_argsort_anom.pickle','rb') as f:\n",
    "    argsort_anom = pickle.load(f)\n",
    "    \n",
    "with open('atlas_flags.pickle','rb') as f:\n",
    "    flags_options = pickle.load(f)"
   ]
  },
  {
   "cell_type": "code",
   "execution_count": 3,
   "id": "95d20bf0",
   "metadata": {},
   "outputs": [
    {
     "name": "stdout",
     "output_type": "stream",
     "text": [
      "images with artefacts: 24\n",
      "images with skull: 74\n"
     ]
    }
   ],
   "source": [
    "print(\"images with artefacts:\",len([k for k,v in flags_options.items() if 'artefact' in v]))\n",
    "print(\"images with skull:\",len([k for k,v in flags_options.items() if 'skull-stripping' in v]))"
   ]
  },
  {
   "cell_type": "code",
   "execution_count": 10,
   "id": "c1bd0745",
   "metadata": {},
   "outputs": [],
   "source": [
    "# Load all images\n",
    "options = {ds.data[i]['image'].split(\"/\")[-1]:i.item() for i in argsort_anom}\n",
    "\n",
    "\n",
    "# Uncomment to restrict dropdowns to either images with artefacts or skull-stripping issues\n",
    "# options = {ds.data[i]['image'].split(\"/\")[-1]:i.item() for i in argsort_anom if 'artefact' in flags_options[ds.data[i]['image'].split(\"/\")[-1]]}\n",
    "# options = {ds.data[i]['image'].split(\"/\")[-1]:i.item() for i in argsort_anom if 'skull-stripping' in flags_options[ds.data[i]['image'].split(\"/\")[-1]]}\n"
   ]
  },
  {
   "cell_type": "code",
   "execution_count": 11,
   "id": "f676f8eb",
   "metadata": {
    "scrolled": false
   },
   "outputs": [
    {
     "name": "stdout",
     "output_type": "stream",
     "text": [
      "Closing server running on port: 7860\n",
      "Running on local URL:  http://0.0.0.0:7860\n",
      "2024-02-10 15:59:55,096 - HTTP Request: GET http://localhost:7860/startup-events \"HTTP/1.1 200 OK\"\n",
      "2024-02-10 15:59:55,099 - HTTP Request: HEAD http://localhost:7860/ \"HTTP/1.1 200 OK\"\n",
      "\n",
      "To create a public link, set `share=True` in `launch()`.\n"
     ]
    },
    {
     "data": {
      "text/html": [
       "<div><iframe src=\"http://localhost:7860/\" width=\"900\" height=\"600\" allow=\"autoplay; camera; microphone; clipboard-read; clipboard-write;\" frameborder=\"0\" allowfullscreen></iframe></div>"
      ],
      "text/plain": [
       "<IPython.core.display.HTML object>"
      ]
     },
     "metadata": {},
     "output_type": "display_data"
    },
    {
     "data": {
      "text/plain": []
     },
     "execution_count": 11,
     "metadata": {},
     "output_type": "execute_result"
    },
    {
     "name": "stdout",
     "output_type": "stream",
     "text": [
      "2024-02-10 15:59:55,679 - HTTP Request: GET https://api.gradio.app/pkg-version \"HTTP/1.1 200 OK\"\n",
      "2024-02-10 15:59:55,811 - HTTP Request: POST https://api.gradio.app/gradio-initiated-analytics/ \"HTTP/1.1 200 OK\"\n",
      "2024-02-10 15:59:55,871 - HTTP Request: POST https://api.gradio.app/gradio-launched-telemetry/ \"HTTP/1.1 200 OK\"\n"
     ]
    }
   ],
   "source": [
    "\n",
    "keys_plot = ['image','label',]\n",
    "\n",
    "\n",
    "def plot(zslice,xslice,yslice,):\n",
    "    \n",
    "    list_to_plot = []\n",
    "    for k in keys_plot:\n",
    "        for d,sl in zip([0,1,2],[zslice,xslice,yslice,]):\n",
    "            img = imgs[k][:,0].movedim(d,0)[int(sl)].clone()\n",
    "            \n",
    "            if d==0:\n",
    "                img[xslice] = 1\n",
    "                img[:,yslice] = 1\n",
    "                \n",
    "            if d==1:\n",
    "                img[zslice] = 1\n",
    "                img[:,yslice] = 1\n",
    "                \n",
    "            if d==2:\n",
    "                img[zslice] = 1\n",
    "                img[:,xslice] = 1\n",
    "           \n",
    "            img = img.flip(0).clip(0.,1.)[None]\n",
    "            list_to_plot.append(img)\n",
    "    \n",
    "    \n",
    "    spatial_size = torch.stack([torch.tensor(i.shape[1:]) for i in list_to_plot],0).max(0)[0]\n",
    "    pad = ResizeWithPadOrCrop(spatial_size=spatial_size,mode='constant')\n",
    "    list_to_plot = [pad(i) for i in list_to_plot]\n",
    "    \n",
    "    return make_grid(list_to_plot,nrow=3).movedim(0,-1).numpy()\n",
    "    \n",
    "def plot_drop(name,zslice,xslice,yslice,):\n",
    "    global imgs, flags_options\n",
    "    idx = options[name]\n",
    "    imgs = ds[idx]\n",
    "    \n",
    "    img_shape = imgs['image'].shape\n",
    "    \n",
    "    xsl = gr.Slider(0,img_shape[2]-1,value=min(xslice,img_shape[2]))\n",
    "    ysl = gr.Slider(0,img_shape[3]-1,value=min(yslice,img_shape[3]))\n",
    "    zsl = gr.Slider(0,img_shape[0]-1,value=min(zslice,img_shape[0]))\n",
    "    \n",
    "    if name not in flags_options.keys():\n",
    "        flags_options[name] = []\n",
    "    \n",
    "    flags = gr.CheckboxGroup(choices=['artefact','skull-stripping','background'],value=flags_options[name])\n",
    "\n",
    "    return plot(zslice,xslice,yslice,),zsl,xsl, ysl,flags  \n",
    "\n",
    "def checkbox_input(name,flags):\n",
    "    global flags_options\n",
    "    flags_options[name] = flags\n",
    "\n",
    "\n",
    "if demo:\n",
    "    demo.close()\n",
    "    \n",
    "with gr.Blocks() as demo:\n",
    "    # gr.Markdown(\"**Select** an image from dropdown to see the output.\")\n",
    "    with gr.Row():\n",
    "        with gr.Column(scale=1):\n",
    "            with gr.Row():\n",
    "                inp = gr.Dropdown(label=\"Image\",choices=options.keys())\n",
    "            \n",
    "            with gr.Row():\n",
    "                coords = (\n",
    "                    gr.Slider(0,100,value=50,label=\"z\"),\n",
    "                    gr.Slider(0,100,value=50,label=\"X\"),\n",
    "                    gr.Slider(0,100,value=50,label=\"y\"),\n",
    "                         )\n",
    "            with gr.Row():\n",
    "                flags = gr.CheckboxGroup(label='Flags', choices=['artefact','skull-stripping','background'])\n",
    "\n",
    "       \n",
    "        with gr.Column(scale=6):\n",
    "            outputs =gr.Image(height=600, width=900)\n",
    "    \n",
    "    inp.change(fn=plot_drop,inputs=[inp,*coords],outputs=[outputs, *coords, flags])\n",
    "    [sl.change(fn=plot,inputs=[*coords,], outputs=outputs) for sl in coords]\n",
    "    flags.change(fn=checkbox_input,inputs=[inp,flags])\n",
    "    \n",
    "    \n",
    "demo.launch(height=600,\n",
    "            width=900,\n",
    "            server_port=7860,\n",
    "            server_name=\"0.0.0.0\")"
   ]
  },
  {
   "cell_type": "code",
   "execution_count": 9,
   "id": "b7f82508",
   "metadata": {},
   "outputs": [],
   "source": [
    "demo.close()"
   ]
  },
  {
   "cell_type": "code",
   "execution_count": 12,
   "id": "d2b38f89",
   "metadata": {},
   "outputs": [
    {
     "data": {
      "text/plain": [
       "['sub-r005s058_ses-1_space-MNI152NLin2009aSym_T1w_stripped_registered.nii.gz',\n",
       " 'sub-r009s044_ses-1_space-MNI152NLin2009aSym_T1w_stripped_registered.nii.gz',\n",
       " 'sub-r009s115_ses-1_space-MNI152NLin2009aSym_T1w_stripped_registered.nii.gz',\n",
       " 'sub-r009s067_ses-1_space-MNI152NLin2009aSym_T1w_stripped_registered.nii.gz',\n",
       " 'sub-r009s005_ses-1_space-MNI152NLin2009aSym_T1w_stripped_registered.nii.gz',\n",
       " 'sub-r038s043_ses-1_space-MNI152NLin2009aSym_T1w_stripped_registered.nii.gz',\n",
       " 'sub-r009s039_ses-1_space-MNI152NLin2009aSym_T1w_stripped_registered.nii.gz',\n",
       " 'sub-r009s096_ses-1_space-MNI152NLin2009aSym_T1w_stripped_registered.nii.gz',\n",
       " 'sub-r009s050_ses-1_space-MNI152NLin2009aSym_T1w_stripped_registered.nii.gz',\n",
       " 'sub-r009s001_ses-1_space-MNI152NLin2009aSym_T1w_stripped_registered.nii.gz',\n",
       " 'sub-r028s026_ses-1_space-MNI152NLin2009aSym_T1w_stripped_registered.nii.gz',\n",
       " 'sub-r048s015_ses-1_space-MNI152NLin2009aSym_T1w_stripped_registered.nii.gz',\n",
       " 'sub-r009s061_ses-1_space-MNI152NLin2009aSym_T1w_stripped_registered.nii.gz',\n",
       " 'sub-r038s084_ses-1_space-MNI152NLin2009aSym_T1w_stripped_registered.nii.gz',\n",
       " 'sub-r009s126_ses-1_space-MNI152NLin2009aSym_T1w_stripped_registered.nii.gz',\n",
       " 'sub-r005s046_ses-1_space-MNI152NLin2009aSym_T1w_stripped_registered.nii.gz',\n",
       " 'sub-r018s011_ses-1_space-MNI152NLin2009aSym_T1w_stripped_registered.nii.gz',\n",
       " 'sub-r009s008_ses-1_space-MNI152NLin2009aSym_T1w_stripped_registered.nii.gz',\n",
       " 'sub-r023s002_ses-1_space-MNI152NLin2009aSym_T1w_stripped_registered.nii.gz',\n",
       " 'sub-r009s007_ses-1_space-MNI152NLin2009aSym_T1w_stripped_registered.nii.gz',\n",
       " 'sub-r027s050_ses-1_space-MNI152NLin2009aSym_T1w_stripped_registered.nii.gz',\n",
       " 'sub-r001s027_ses-1_space-MNI152NLin2009aSym_T1w_stripped_registered.nii.gz',\n",
       " 'sub-r047s035_ses-1_space-MNI152NLin2009aSym_T1w_stripped_registered.nii.gz',\n",
       " 'sub-r023s008_ses-1_space-MNI152NLin2009aSym_T1w_stripped_registered.nii.gz']"
      ]
     },
     "execution_count": 12,
     "metadata": {},
     "output_type": "execute_result"
    }
   ],
   "source": [
    "# images with artefacts:\",\n",
    "[k for k,v in flags_options.items() if 'artefact' in v]\n"
   ]
  },
  {
   "cell_type": "code",
   "execution_count": 13,
   "id": "9b00a725",
   "metadata": {},
   "outputs": [
    {
     "data": {
      "text/plain": [
       "['sub-r005s058_ses-1_space-MNI152NLin2009aSym_T1w_stripped_registered.nii.gz',\n",
       " 'sub-r009s044_ses-1_space-MNI152NLin2009aSym_T1w_stripped_registered.nii.gz',\n",
       " 'sub-r038s024_ses-1_space-MNI152NLin2009aSym_T1w_stripped_registered.nii.gz',\n",
       " 'sub-r009s115_ses-1_space-MNI152NLin2009aSym_T1w_stripped_registered.nii.gz',\n",
       " 'sub-r048s002_ses-1_space-MNI152NLin2009aSym_T1w_stripped_registered.nii.gz',\n",
       " 'sub-r009s067_ses-1_space-MNI152NLin2009aSym_T1w_stripped_registered.nii.gz',\n",
       " 'sub-r047s026_ses-1_space-MNI152NLin2009aSym_T1w_stripped_registered.nii.gz',\n",
       " 'sub-r009s005_ses-1_space-MNI152NLin2009aSym_T1w_stripped_registered.nii.gz',\n",
       " 'sub-r038s043_ses-1_space-MNI152NLin2009aSym_T1w_stripped_registered.nii.gz',\n",
       " 'sub-r009s039_ses-1_space-MNI152NLin2009aSym_T1w_stripped_registered.nii.gz',\n",
       " 'sub-r009s096_ses-1_space-MNI152NLin2009aSym_T1w_stripped_registered.nii.gz',\n",
       " 'sub-r038s061_ses-1_space-MNI152NLin2009aSym_T1w_stripped_registered.nii.gz',\n",
       " 'sub-r038s016_ses-1_space-MNI152NLin2009aSym_T1w_stripped_registered.nii.gz',\n",
       " 'sub-r009s050_ses-1_space-MNI152NLin2009aSym_T1w_stripped_registered.nii.gz',\n",
       " 'sub-r009s001_ses-1_space-MNI152NLin2009aSym_T1w_stripped_registered.nii.gz',\n",
       " 'sub-r031s013_ses-1_space-MNI152NLin2009aSym_T1w_stripped_registered.nii.gz',\n",
       " 'sub-r031s005_ses-1_space-MNI152NLin2009aSym_T1w_stripped_registered.nii.gz',\n",
       " 'sub-r009s098_ses-1_space-MNI152NLin2009aSym_T1w_stripped_registered.nii.gz',\n",
       " 'sub-r038s026_ses-1_space-MNI152NLin2009aSym_T1w_stripped_registered.nii.gz',\n",
       " 'sub-r009s061_ses-1_space-MNI152NLin2009aSym_T1w_stripped_registered.nii.gz',\n",
       " 'sub-r009s126_ses-1_space-MNI152NLin2009aSym_T1w_stripped_registered.nii.gz',\n",
       " 'sub-r038s025_ses-1_space-MNI152NLin2009aSym_T1w_stripped_registered.nii.gz',\n",
       " 'sub-r018s011_ses-1_space-MNI152NLin2009aSym_T1w_stripped_registered.nii.gz',\n",
       " 'sub-r038s018_ses-1_space-MNI152NLin2009aSym_T1w_stripped_registered.nii.gz',\n",
       " 'sub-r038s007_ses-1_space-MNI152NLin2009aSym_T1w_stripped_registered.nii.gz',\n",
       " 'sub-r042s008_ses-1_space-MNI152NLin2009aSym_T1w_stripped_registered.nii.gz',\n",
       " 'sub-r001s037_ses-1_space-MNI152NLin2009aSym_T1w_stripped_registered.nii.gz',\n",
       " 'sub-r001s028_ses-1_space-MNI152NLin2009aSym_T1w_stripped_registered.nii.gz',\n",
       " 'sub-r031s008_ses-1_space-MNI152NLin2009aSym_T1w_stripped_registered.nii.gz',\n",
       " 'sub-r028s014_ses-1_space-MNI152NLin2009aSym_T1w_stripped_registered.nii.gz',\n",
       " 'sub-r005s069_ses-1_space-MNI152NLin2009aSym_T1w_stripped_registered.nii.gz',\n",
       " 'sub-r009s008_ses-1_space-MNI152NLin2009aSym_T1w_stripped_registered.nii.gz',\n",
       " 'sub-r001s031_ses-1_space-MNI152NLin2009aSym_T1w_stripped_registered.nii.gz',\n",
       " 'sub-r009s052_ses-1_space-MNI152NLin2009aSym_T1w_stripped_registered.nii.gz',\n",
       " 'sub-r009s040_ses-1_space-MNI152NLin2009aSym_T1w_stripped_registered.nii.gz',\n",
       " 'sub-r009s024_ses-1_space-MNI152NLin2009aSym_T1w_stripped_registered.nii.gz',\n",
       " 'sub-r001s032_ses-1_space-MNI152NLin2009aSym_T1w_stripped_registered.nii.gz',\n",
       " 'sub-r001s038_ses-1_space-MNI152NLin2009aSym_T1w_stripped_registered.nii.gz',\n",
       " 'sub-r009s103_ses-1_space-MNI152NLin2009aSym_T1w_stripped_registered.nii.gz',\n",
       " 'sub-r009s071_ses-1_space-MNI152NLin2009aSym_T1w_stripped_registered.nii.gz',\n",
       " 'sub-r001s036_ses-1_space-MNI152NLin2009aSym_T1w_stripped_registered.nii.gz',\n",
       " 'sub-r048s006_ses-1_space-MNI152NLin2009aSym_T1w_stripped_registered.nii.gz',\n",
       " 'sub-r009s030_ses-1_space-MNI152NLin2009aSym_T1w_stripped_registered.nii.gz',\n",
       " 'sub-r001s013_ses-1_space-MNI152NLin2009aSym_T1w_stripped_registered.nii.gz',\n",
       " 'sub-r001s027_ses-1_space-MNI152NLin2009aSym_T1w_stripped_registered.nii.gz',\n",
       " 'sub-r029s009_ses-1_space-MNI152NLin2009aSym_T1w_stripped_registered.nii.gz',\n",
       " 'sub-r009s015_ses-1_space-MNI152NLin2009aSym_T1w_stripped_registered.nii.gz',\n",
       " 'sub-r009s091_ses-1_space-MNI152NLin2009aSym_T1w_stripped_registered.nii.gz',\n",
       " 'sub-r040s008_ses-1_space-MNI152NLin2009aSym_T1w_stripped_registered.nii.gz',\n",
       " 'sub-r009s034_ses-1_space-MNI152NLin2009aSym_T1w_stripped_registered.nii.gz',\n",
       " 'sub-r010s013_ses-1_space-MNI152NLin2009aSym_T1w_stripped_registered.nii.gz',\n",
       " 'sub-r011s017_ses-1_space-MNI152NLin2009aSym_T1w_stripped_registered.nii.gz',\n",
       " 'sub-r009s004_ses-1_space-MNI152NLin2009aSym_T1w_stripped_registered.nii.gz',\n",
       " 'sub-r001s015_ses-1_space-MNI152NLin2009aSym_T1w_stripped_registered.nii.gz',\n",
       " 'sub-r001s005_ses-1_space-MNI152NLin2009aSym_T1w_stripped_registered.nii.gz',\n",
       " 'sub-r001s001_ses-1_space-MNI152NLin2009aSym_T1w_stripped_registered.nii.gz',\n",
       " 'sub-r024s013_ses-1_space-MNI152NLin2009aSym_T1w_stripped_registered.nii.gz',\n",
       " 'sub-r004s012_ses-1_space-MNI152NLin2009aSym_T1w_stripped_registered.nii.gz',\n",
       " 'sub-r004s020_ses-1_space-MNI152NLin2009aSym_T1w_stripped_registered.nii.gz',\n",
       " 'sub-r009s121_ses-1_space-MNI152NLin2009aSym_T1w_stripped_registered.nii.gz',\n",
       " 'sub-r001s008_ses-1_space-MNI152NLin2009aSym_T1w_stripped_registered.nii.gz',\n",
       " 'sub-r009s060_ses-1_space-MNI152NLin2009aSym_T1w_stripped_registered.nii.gz',\n",
       " 'sub-r009s107_ses-1_space-MNI152NLin2009aSym_T1w_stripped_registered.nii.gz',\n",
       " 'sub-r047s039_ses-1_space-MNI152NLin2009aSym_T1w_stripped_registered.nii.gz',\n",
       " 'sub-r035s014_ses-1_space-MNI152NLin2009aSym_T1w_stripped_registered.nii.gz',\n",
       " 'sub-r015s027_ses-1_space-MNI152NLin2009aSym_T1w_stripped_registered.nii.gz',\n",
       " 'sub-r009s035_ses-1_space-MNI152NLin2009aSym_T1w_stripped_registered.nii.gz',\n",
       " 'sub-r004s016_ses-1_space-MNI152NLin2009aSym_T1w_stripped_registered.nii.gz',\n",
       " 'sub-r004s006_ses-1_space-MNI152NLin2009aSym_T1w_stripped_registered.nii.gz',\n",
       " 'sub-r004s032_ses-1_space-MNI152NLin2009aSym_T1w_stripped_registered.nii.gz',\n",
       " 'sub-r018s008_ses-1_space-MNI152NLin2009aSym_T1w_stripped_registered.nii.gz',\n",
       " 'sub-r004s022_ses-1_space-MNI152NLin2009aSym_T1w_stripped_registered.nii.gz',\n",
       " 'sub-r052s025_ses-1_space-MNI152NLin2009aSym_T1w_stripped_registered.nii.gz',\n",
       " 'sub-r024s002_ses-1_space-MNI152NLin2009aSym_T1w_stripped_registered.nii.gz']"
      ]
     },
     "execution_count": 13,
     "metadata": {},
     "output_type": "execute_result"
    }
   ],
   "source": [
    "# Images with skull:,\n",
    "[k for k,v in flags_options.items() if 'skull-stripping' in v]"
   ]
  }
 ],
 "metadata": {
  "kernelspec": {
   "display_name": "Python 3 (ipykernel)",
   "language": "python",
   "name": "python3"
  },
  "language_info": {
   "codemirror_mode": {
    "name": "ipython",
    "version": 3
   },
   "file_extension": ".py",
   "mimetype": "text/x-python",
   "name": "python",
   "nbconvert_exporter": "python",
   "pygments_lexer": "ipython3",
   "version": "3.9.18"
  }
 },
 "nbformat": 4,
 "nbformat_minor": 5
}
